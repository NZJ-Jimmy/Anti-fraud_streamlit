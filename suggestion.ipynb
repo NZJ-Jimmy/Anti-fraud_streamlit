{
 "cells": [
  {
   "cell_type": "code",
   "execution_count": 2,
   "metadata": {},
   "outputs": [],
   "source": [
    "import fraud_msg_cls\n",
    "import streamlit as st\n",
    "from openai import OpenAI\n",
    "import openai\n",
    "\n",
    "openai.api_key = st.secrets[\"OPENAI_API_KEY\"]\n",
    "openai.base_url = st.secrets[\"OPENAI_BASE_URL\"]\n",
    "openai_model = st.secrets[\"OPENAI_MODEL\"]"
   ]
  },
  {
   "cell_type": "code",
   "execution_count": 3,
   "metadata": {},
   "outputs": [],
   "source": [
    "msg = \"尊敬的用户，为响应国家政策，支付宝现推出降息优惠，请登录中国政府网生活号验证信息后，按照指引操作即可享受优惠。\""
   ]
  },
  {
   "cell_type": "code",
   "execution_count": 4,
   "metadata": {},
   "outputs": [
    {
     "name": "stderr",
     "output_type": "stream",
     "text": [
      "d:\\miniforge3\\envs\\DL\\lib\\site-packages\\transformers\\models\\bert\\modeling_bert.py:440: UserWarning: 1Torch was not compiled with flash attention. (Triggered internally at C:\\actions-runner\\_work\\pytorch\\pytorch\\builder\\windows\\pytorch\\aten\\src\\ATen\\native\\transformers\\cuda\\sdp_utils.cpp:455.)\n",
      "  attn_output = torch.nn.functional.scaled_dot_product_attention(\n"
     ]
    }
   ],
   "source": [
    "prediction = fraud_msg_cls.predict(msg)"
   ]
  },
  {
   "cell_type": "code",
   "execution_count": 5,
   "metadata": {},
   "outputs": [
    {
     "data": {
      "text/plain": [
       "[('虚假信用服务类', 0.84811056),\n",
       " ('冒充电商物流客服类', 0.092546165),\n",
       " ('冒充公检法及政府机关类', 0.02540491),\n",
       " ('虚假购物、服务类', 0.013777527),\n",
       " ('无风险', 0.0071956175),\n",
       " ('网黑案件', 0.0050302274),\n",
       " ('冒充领导、熟人类', 0.0036921047),\n",
       " ('冒充军警购物类诈骗', 0.0018577599),\n",
       " ('虚假网络投资理财类', 0.0013425661),\n",
       " ('网络婚恋、交友类', 0.0010425716)]"
      ]
     },
     "execution_count": 5,
     "metadata": {},
     "output_type": "execute_result"
    }
   ],
   "source": [
    "prediction"
   ]
  },
  {
   "cell_type": "code",
   "execution_count": 7,
   "metadata": {},
   "outputs": [],
   "source": [
    "prompt_template = \"\"\"\n",
    "我这里有一条疑似欺诈的信息，以下是信息内容：\n",
    "{msg}\n",
    "\n",
    "由我训练的模型得到，该短信属于的类别的各可能性为：\n",
    "{prediction}\n",
    "\n",
    "请你根据我训练的模型的预测结果，针对模型预测的可能性最大的的**一种类别**，给出针对收到短信的风险用户建议。\n",
    "\n",
    "要求：\n",
    "1. 不要输出模型预测的概率值\n",
    "2. 可以针对短信中的内容的部分特征，结合模型预测的类别的典型特征，给出风险用户的建议。\n",
    "3. 如果模型预测的类别的典型特征不足以给出建议，可以根据短信的内容给出建议。\n",
    "4. 如果模型预测为无风险，可以恭喜用户，但也可以给出一些建议。\n",
    "5. 只需要给出约 200 字的建议即可。建议有条理地列出。\n",
    "6. 适量加入 emoji 表情，使得建议更加生动有趣。\n",
    "\n",
    "建议内容：\n",
    "\"\"\""
   ]
  },
  {
   "cell_type": "code",
   "execution_count": 57,
   "metadata": {},
   "outputs": [
    {
     "name": "stdout",
     "output_type": "stream",
     "text": [
      "根据模型预测，这条短信属于**虚假信用服务类**诈骗。以下是给您的建议：\n",
      "\n",
      "1. **核实官方渠道** 🚨  \n",
      "   支付宝不会通过短信要求用户登录其他网站验证信息。任何涉及“国家政策”“降息优惠”等话术，务必通过支付宝官方APP或客服电话（95188）核实。\n",
      "\n",
      "2. **警惕陌生链接** 🔗  \n",
      "   短信中的“中国政府网生活号”可能是伪造链接，切勿直接点击。政府机构不会通过私人账号推送金融操作指引。\n",
      "\n",
      "3. **保护个人信息** 🔐  \n",
      "   切勿在陌生页面输入银行卡号、密码或短信验证码！虚假信用服务常以“优惠”为诱饵，实为窃取账户信息。\n",
      "\n",
      "4. **举报可疑内容** 📢  \n",
      "   可将短信转发至支付宝举报入口（APP内“我的-帮助与反馈”）或反诈专线96110，帮助他人避免受骗。\n",
      "\n",
      "记住：天下没有免费的午餐，优惠活动请认准官方公告！ 💡\n"
     ]
    }
   ],
   "source": [
    "prompt = prompt_template.format(msg=msg, prediction=prediction)\n",
    "\n",
    "client = OpenAI()\n",
    "\n",
    "response = client.chat.completions.create(\n",
    "  model=openai_model,\n",
    "  messages=[\n",
    "    {\"role\": \"system\", \"content\": \"The following is a message that I received from a user and I need your help to respond to it.\"},\n",
    "    {\"role\": \"user\", \"content\": prompt},\n",
    "  ],\n",
    "  max_tokens=1024,\n",
    "  temperature=1.0,\n",
    ")\n",
    "print(response.choices[0].message.content)"
   ]
  }
 ],
 "metadata": {
  "kernelspec": {
   "display_name": "DL",
   "language": "python",
   "name": "python3"
  },
  "language_info": {
   "codemirror_mode": {
    "name": "ipython",
    "version": 3
   },
   "file_extension": ".py",
   "mimetype": "text/x-python",
   "name": "python",
   "nbconvert_exporter": "python",
   "pygments_lexer": "ipython3",
   "version": "3.9.19"
  }
 },
 "nbformat": 4,
 "nbformat_minor": 2
}
