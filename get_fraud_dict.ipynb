{
 "cells": [
  {
   "cell_type": "code",
   "execution_count": 2,
   "metadata": {},
   "outputs": [
    {
     "name": "stdout",
     "output_type": "stream",
     "text": [
      "194981\n"
     ]
    }
   ],
   "source": [
    "import json\n",
    "\n",
    "keyword_message = json.load(open(\"dataset/keyword_message.json\"))\n",
    "eval_initial = json.load(open(\"dataset/eval_initial.json\"))\n",
    "finetuning_initial = json.load(open(\"dataset/finetuning_initial.json\"))\n",
    "\n",
    "data_all = keyword_message + eval_initial + finetuning_initial\n",
    "print(len(data_all))"
   ]
  },
  {
   "cell_type": "code",
   "execution_count": 3,
   "metadata": {},
   "outputs": [
    {
     "name": "stderr",
     "output_type": "stream",
     "text": [
      "Building prefix dict from the default dictionary ...\n",
      "Loading model from cache C:\\Users\\niang\\AppData\\Local\\Temp\\jieba.cache\n"
     ]
    },
    {
     "name": "stdout",
     "output_type": "stream",
     "text": [
      "134977\n"
     ]
    },
    {
     "name": "stderr",
     "output_type": "stream",
     "text": [
      "Loading model cost 0.500 seconds.\n",
      "Prefix dict has been built successfully.\n"
     ]
    },
    {
     "ename": "KeyboardInterrupt",
     "evalue": "",
     "output_type": "error",
     "traceback": [
      "\u001b[1;31m---------------------------------------------------------------------------\u001b[0m",
      "\u001b[1;31mKeyboardInterrupt\u001b[0m                         Traceback (most recent call last)",
      "Cell \u001b[1;32mIn[3], line 29\u001b[0m\n\u001b[0;32m     26\u001b[0m text \u001b[38;5;241m=\u001b[39m re\u001b[38;5;241m.\u001b[39msub(\u001b[38;5;124mr\u001b[39m\u001b[38;5;124m\"\u001b[39m\u001b[38;5;124m\\\u001b[39m\u001b[38;5;124md+\u001b[39m\u001b[38;5;124m\"\u001b[39m, \u001b[38;5;124m\"\u001b[39m\u001b[38;5;124m\"\u001b[39m, text)               \u001b[38;5;66;03m# 去除纯数字\u001b[39;00m\n\u001b[0;32m     28\u001b[0m \u001b[38;5;66;03m# 带词性标注的分词 (修改点)\u001b[39;00m\n\u001b[1;32m---> 29\u001b[0m words \u001b[38;5;241m=\u001b[39m \u001b[43mpseg\u001b[49m\u001b[38;5;241;43m.\u001b[39;49m\u001b[43mlcut\u001b[49m\u001b[43m(\u001b[49m\u001b[43mtext\u001b[49m\u001b[43m)\u001b[49m\n\u001b[0;32m     31\u001b[0m \u001b[38;5;66;03m# 过滤条件 (核心修改)\u001b[39;00m\n\u001b[0;32m     32\u001b[0m filtered_words \u001b[38;5;241m=\u001b[39m [\n\u001b[0;32m     33\u001b[0m     word \u001b[38;5;28;01mfor\u001b[39;00m word, flag \u001b[38;5;129;01min\u001b[39;00m words\n\u001b[0;32m     34\u001b[0m     \u001b[38;5;28;01mif\u001b[39;00m (flag \u001b[38;5;129;01min\u001b[39;00m ALLOWED_POS) \u001b[38;5;129;01mand\u001b[39;00m              \u001b[38;5;66;03m# 词性过滤\u001b[39;00m\n\u001b[1;32m   (...)\u001b[0m\n\u001b[0;32m     38\u001b[0m     (\u001b[38;5;129;01mnot\u001b[39;00m word\u001b[38;5;241m.\u001b[39misspace())\n\u001b[0;32m     39\u001b[0m ]\n",
      "File \u001b[1;32me:\\repos\\llm-chatbot-python\\.conda\\lib\\site-packages\\jieba\\posseg\\__init__.py:310\u001b[0m, in \u001b[0;36mlcut\u001b[1;34m(sentence, HMM, use_paddle)\u001b[0m\n\u001b[0;32m    308\u001b[0m \u001b[38;5;28;01mif\u001b[39;00m use_paddle:\n\u001b[0;32m    309\u001b[0m     \u001b[38;5;28;01mreturn\u001b[39;00m \u001b[38;5;28mlist\u001b[39m(cut(sentence, use_paddle\u001b[38;5;241m=\u001b[39m\u001b[38;5;28;01mTrue\u001b[39;00m))\n\u001b[1;32m--> 310\u001b[0m \u001b[38;5;28;01mreturn\u001b[39;00m \u001b[38;5;28;43mlist\u001b[39;49m\u001b[43m(\u001b[49m\u001b[43mcut\u001b[49m\u001b[43m(\u001b[49m\u001b[43msentence\u001b[49m\u001b[43m,\u001b[49m\u001b[43m \u001b[49m\u001b[43mHMM\u001b[49m\u001b[43m)\u001b[49m\u001b[43m)\u001b[49m\n",
      "File \u001b[1;32me:\\repos\\llm-chatbot-python\\.conda\\lib\\site-packages\\jieba\\posseg\\__init__.py:294\u001b[0m, in \u001b[0;36mcut\u001b[1;34m(sentence, HMM, use_paddle)\u001b[0m\n\u001b[0;32m    292\u001b[0m \u001b[38;5;28;01mglobal\u001b[39;00m dt\n\u001b[0;32m    293\u001b[0m \u001b[38;5;28;01mif\u001b[39;00m jieba\u001b[38;5;241m.\u001b[39mpool \u001b[38;5;129;01mis\u001b[39;00m \u001b[38;5;28;01mNone\u001b[39;00m:\n\u001b[1;32m--> 294\u001b[0m     \u001b[38;5;28;01mfor\u001b[39;00m w \u001b[38;5;129;01min\u001b[39;00m dt\u001b[38;5;241m.\u001b[39mcut(sentence, HMM\u001b[38;5;241m=\u001b[39mHMM):\n\u001b[0;32m    295\u001b[0m         \u001b[38;5;28;01myield\u001b[39;00m w\n\u001b[0;32m    296\u001b[0m \u001b[38;5;28;01melse\u001b[39;00m:\n",
      "File \u001b[1;32me:\\repos\\llm-chatbot-python\\.conda\\lib\\site-packages\\jieba\\posseg\\__init__.py:249\u001b[0m, in \u001b[0;36mPOSTokenizer.cut\u001b[1;34m(self, sentence, HMM)\u001b[0m\n\u001b[0;32m    248\u001b[0m \u001b[38;5;28;01mdef\u001b[39;00m\u001b[38;5;250m \u001b[39m\u001b[38;5;21mcut\u001b[39m(\u001b[38;5;28mself\u001b[39m, sentence, HMM\u001b[38;5;241m=\u001b[39m\u001b[38;5;28;01mTrue\u001b[39;00m):\n\u001b[1;32m--> 249\u001b[0m     \u001b[38;5;28;01mfor\u001b[39;00m w \u001b[38;5;129;01min\u001b[39;00m \u001b[38;5;28mself\u001b[39m\u001b[38;5;241m.\u001b[39m__cut_internal(sentence, HMM\u001b[38;5;241m=\u001b[39mHMM):\n\u001b[0;32m    250\u001b[0m         \u001b[38;5;28;01myield\u001b[39;00m w\n",
      "File \u001b[1;32me:\\repos\\llm-chatbot-python\\.conda\\lib\\site-packages\\jieba\\posseg\\__init__.py:226\u001b[0m, in \u001b[0;36mPOSTokenizer.__cut_internal\u001b[1;34m(self, sentence, HMM)\u001b[0m\n\u001b[0;32m    224\u001b[0m \u001b[38;5;28;01mfor\u001b[39;00m blk \u001b[38;5;129;01min\u001b[39;00m blocks:\n\u001b[0;32m    225\u001b[0m     \u001b[38;5;28;01mif\u001b[39;00m re_han_internal\u001b[38;5;241m.\u001b[39mmatch(blk):\n\u001b[1;32m--> 226\u001b[0m         \u001b[38;5;28;01mfor\u001b[39;00m word \u001b[38;5;129;01min\u001b[39;00m cut_blk(blk):\n\u001b[0;32m    227\u001b[0m             \u001b[38;5;28;01myield\u001b[39;00m word\n\u001b[0;32m    228\u001b[0m     \u001b[38;5;28;01melse\u001b[39;00m:\n",
      "File \u001b[1;32me:\\repos\\llm-chatbot-python\\.conda\\lib\\site-packages\\jieba\\posseg\\__init__.py:195\u001b[0m, in \u001b[0;36mPOSTokenizer.__cut_DAG\u001b[1;34m(self, sentence)\u001b[0m\n\u001b[0;32m    193\u001b[0m \u001b[38;5;28;01melif\u001b[39;00m \u001b[38;5;129;01mnot\u001b[39;00m \u001b[38;5;28mself\u001b[39m\u001b[38;5;241m.\u001b[39mtokenizer\u001b[38;5;241m.\u001b[39mFREQ\u001b[38;5;241m.\u001b[39mget(buf):\n\u001b[0;32m    194\u001b[0m     recognized \u001b[38;5;241m=\u001b[39m \u001b[38;5;28mself\u001b[39m\u001b[38;5;241m.\u001b[39m__cut_detail(buf)\n\u001b[1;32m--> 195\u001b[0m     \u001b[38;5;28;01mfor\u001b[39;00m t \u001b[38;5;129;01min\u001b[39;00m recognized:\n\u001b[0;32m    196\u001b[0m         \u001b[38;5;28;01myield\u001b[39;00m t\n\u001b[0;32m    197\u001b[0m \u001b[38;5;28;01melse\u001b[39;00m:\n",
      "File \u001b[1;32me:\\repos\\llm-chatbot-python\\.conda\\lib\\site-packages\\jieba\\posseg\\__init__.py:139\u001b[0m, in \u001b[0;36mPOSTokenizer.__cut_detail\u001b[1;34m(self, sentence)\u001b[0m\n\u001b[0;32m    137\u001b[0m \u001b[38;5;28;01mfor\u001b[39;00m blk \u001b[38;5;129;01min\u001b[39;00m blocks:\n\u001b[0;32m    138\u001b[0m     \u001b[38;5;28;01mif\u001b[39;00m re_han_detail\u001b[38;5;241m.\u001b[39mmatch(blk):\n\u001b[1;32m--> 139\u001b[0m         \u001b[38;5;28;01mfor\u001b[39;00m word \u001b[38;5;129;01min\u001b[39;00m \u001b[38;5;28mself\u001b[39m\u001b[38;5;241m.\u001b[39m__cut(blk):\n\u001b[0;32m    140\u001b[0m             \u001b[38;5;28;01myield\u001b[39;00m word\n\u001b[0;32m    141\u001b[0m     \u001b[38;5;28;01melse\u001b[39;00m:\n",
      "File \u001b[1;32me:\\repos\\llm-chatbot-python\\.conda\\lib\\site-packages\\jieba\\posseg\\__init__.py:118\u001b[0m, in \u001b[0;36mPOSTokenizer.__cut\u001b[1;34m(self, sentence)\u001b[0m\n\u001b[0;32m    117\u001b[0m \u001b[38;5;28;01mdef\u001b[39;00m\u001b[38;5;250m \u001b[39m\u001b[38;5;21m__cut\u001b[39m(\u001b[38;5;28mself\u001b[39m, sentence):\n\u001b[1;32m--> 118\u001b[0m     prob, pos_list \u001b[38;5;241m=\u001b[39m \u001b[43mviterbi\u001b[49m\u001b[43m(\u001b[49m\n\u001b[0;32m    119\u001b[0m \u001b[43m        \u001b[49m\u001b[43msentence\u001b[49m\u001b[43m,\u001b[49m\u001b[43m \u001b[49m\u001b[43mchar_state_tab_P\u001b[49m\u001b[43m,\u001b[49m\u001b[43m \u001b[49m\u001b[43mstart_P\u001b[49m\u001b[43m,\u001b[49m\u001b[43m \u001b[49m\u001b[43mtrans_P\u001b[49m\u001b[43m,\u001b[49m\u001b[43m \u001b[49m\u001b[43memit_P\u001b[49m\u001b[43m)\u001b[49m\n\u001b[0;32m    120\u001b[0m     begin, nexti \u001b[38;5;241m=\u001b[39m \u001b[38;5;241m0\u001b[39m, \u001b[38;5;241m0\u001b[39m\n\u001b[0;32m    122\u001b[0m     \u001b[38;5;28;01mfor\u001b[39;00m i, char \u001b[38;5;129;01min\u001b[39;00m \u001b[38;5;28menumerate\u001b[39m(sentence):\n",
      "File \u001b[1;32me:\\repos\\llm-chatbot-python\\.conda\\lib\\site-packages\\jieba\\posseg\\viterbi.py:37\u001b[0m, in \u001b[0;36mviterbi\u001b[1;34m(obs, states, start_p, trans_p, emit_p)\u001b[0m\n\u001b[0;32m     34\u001b[0m     obs_states \u001b[38;5;241m=\u001b[39m prev_states_expect_next \u001b[38;5;28;01mif\u001b[39;00m prev_states_expect_next \u001b[38;5;28;01melse\u001b[39;00m all_states\n\u001b[0;32m     36\u001b[0m \u001b[38;5;28;01mfor\u001b[39;00m y \u001b[38;5;129;01min\u001b[39;00m obs_states:\n\u001b[1;32m---> 37\u001b[0m     prob, state \u001b[38;5;241m=\u001b[39m \u001b[38;5;28;43mmax\u001b[39;49m\u001b[43m(\u001b[49m\u001b[43m(\u001b[49m\u001b[43mV\u001b[49m\u001b[43m[\u001b[49m\u001b[43mt\u001b[49m\u001b[43m \u001b[49m\u001b[38;5;241;43m-\u001b[39;49m\u001b[43m \u001b[49m\u001b[38;5;241;43m1\u001b[39;49m\u001b[43m]\u001b[49m\u001b[43m[\u001b[49m\u001b[43my0\u001b[49m\u001b[43m]\u001b[49m\u001b[43m \u001b[49m\u001b[38;5;241;43m+\u001b[39;49m\u001b[43m \u001b[49m\u001b[43mtrans_p\u001b[49m\u001b[43m[\u001b[49m\u001b[43my0\u001b[49m\u001b[43m]\u001b[49m\u001b[38;5;241;43m.\u001b[39;49m\u001b[43mget\u001b[49m\u001b[43m(\u001b[49m\u001b[43my\u001b[49m\u001b[43m,\u001b[49m\u001b[43m \u001b[49m\u001b[43mMIN_INF\u001b[49m\u001b[43m)\u001b[49m\u001b[43m \u001b[49m\u001b[38;5;241;43m+\u001b[39;49m\n\u001b[0;32m     38\u001b[0m \u001b[43m                       \u001b[49m\u001b[43memit_p\u001b[49m\u001b[43m[\u001b[49m\u001b[43my\u001b[49m\u001b[43m]\u001b[49m\u001b[38;5;241;43m.\u001b[39;49m\u001b[43mget\u001b[49m\u001b[43m(\u001b[49m\u001b[43mobs\u001b[49m\u001b[43m[\u001b[49m\u001b[43mt\u001b[49m\u001b[43m]\u001b[49m\u001b[43m,\u001b[49m\u001b[43m \u001b[49m\u001b[43mMIN_FLOAT\u001b[49m\u001b[43m)\u001b[49m\u001b[43m,\u001b[49m\u001b[43m \u001b[49m\u001b[43my0\u001b[49m\u001b[43m)\u001b[49m\u001b[43m \u001b[49m\u001b[38;5;28;43;01mfor\u001b[39;49;00m\u001b[43m \u001b[49m\u001b[43my0\u001b[49m\u001b[43m \u001b[49m\u001b[38;5;129;43;01min\u001b[39;49;00m\u001b[43m \u001b[49m\u001b[43mprev_states\u001b[49m\u001b[43m)\u001b[49m\n\u001b[0;32m     39\u001b[0m     V[t][y] \u001b[38;5;241m=\u001b[39m prob\n\u001b[0;32m     40\u001b[0m     mem_path[t][y] \u001b[38;5;241m=\u001b[39m state\n",
      "File \u001b[1;32me:\\repos\\llm-chatbot-python\\.conda\\lib\\site-packages\\jieba\\posseg\\viterbi.py:38\u001b[0m, in \u001b[0;36m<genexpr>\u001b[1;34m(.0)\u001b[0m\n\u001b[0;32m     34\u001b[0m     obs_states \u001b[38;5;241m=\u001b[39m prev_states_expect_next \u001b[38;5;28;01mif\u001b[39;00m prev_states_expect_next \u001b[38;5;28;01melse\u001b[39;00m all_states\n\u001b[0;32m     36\u001b[0m \u001b[38;5;28;01mfor\u001b[39;00m y \u001b[38;5;129;01min\u001b[39;00m obs_states:\n\u001b[0;32m     37\u001b[0m     prob, state \u001b[38;5;241m=\u001b[39m \u001b[38;5;28mmax\u001b[39m((V[t \u001b[38;5;241m-\u001b[39m \u001b[38;5;241m1\u001b[39m][y0] \u001b[38;5;241m+\u001b[39m trans_p[y0]\u001b[38;5;241m.\u001b[39mget(y, MIN_INF) \u001b[38;5;241m+\u001b[39m\n\u001b[1;32m---> 38\u001b[0m                        emit_p[y]\u001b[38;5;241m.\u001b[39mget(obs[t], \u001b[43mMIN_FLOAT\u001b[49m), y0) \u001b[38;5;28;01mfor\u001b[39;00m y0 \u001b[38;5;129;01min\u001b[39;00m prev_states)\n\u001b[0;32m     39\u001b[0m     V[t][y] \u001b[38;5;241m=\u001b[39m prob\n\u001b[0;32m     40\u001b[0m     mem_path[t][y] \u001b[38;5;241m=\u001b[39m state\n",
      "\u001b[1;31mKeyboardInterrupt\u001b[0m: "
     ]
    }
   ],
   "source": [
    "import jieba.posseg as pseg  # 使用带词性标注的分词器\n",
    "import re\n",
    "from collections import Counter\n",
    "\n",
    "risk_data = [d for d in data_all if d[\"风险类别\"] != \"无风险\"]\n",
    "print(len(risk_data))\n",
    "\n",
    "# 加载停用词表\n",
    "stop_words = set()\n",
    "with open(\"cn_stopwords.txt\", \"r\", encoding=\"utf-8\") as f:\n",
    "    stop_words = set([line.strip() for line in f])\n",
    "\n",
    "# 正则表达式配置\n",
    "url_pattern = r\"https?://\\S+|www\\.\\S+\"  # 匹配URL\n",
    "punctuation = r\"[\\s+\\!\\/_,$%^*(+\\\"\\')]+|[+——！，。？、~@#￥%……&*（）《》“”；：]+\"\n",
    "\n",
    "# 词性白名单\n",
    "ALLOWED_POS = {'n', 'v', 'vn', 'nt'}  # 名词/动词/动名词/机构名\n",
    "\n",
    "word_counter = Counter()\n",
    "\n",
    "for item in risk_data:\n",
    "    # 文本清洗\n",
    "    text = re.sub(url_pattern, \"\", item[\"文本\"])  # 去除链接\n",
    "    text = re.sub(punctuation, \"\", text)         # 去除标点\n",
    "    text = re.sub(r\"\\d+\", \"\", text)               # 去除纯数字\n",
    "    \n",
    "    # 带词性标注的分词 (修改点)\n",
    "    words = pseg.lcut(text)\n",
    "    \n",
    "    # 过滤条件 (核心修改)\n",
    "    filtered_words = [\n",
    "        word for word, flag in words\n",
    "        if (flag in ALLOWED_POS) and              # 词性过滤\n",
    "        (word not in stop_words) and\n",
    "        (len(word) > 1) and\n",
    "        (not word.isdigit()) and\n",
    "        (not word.isspace())\n",
    "    ]\n",
    "    \n",
    "    word_counter.update(filtered_words)\n",
    "\n",
    "sorted_dict = dict(word_counter.most_common())\n",
    "print(list(sorted_dict.items())[:20])"
   ]
  },
  {
   "cell_type": "code",
   "execution_count": 9,
   "metadata": {},
   "outputs": [],
   "source": [
    "if \"详情请\" in word_counter:\n",
    "    detail_count = word_counter.pop(\"详情请\")\n",
    "    word_counter[\"详情\"] += detail_count\n",
    "\n",
    "word_counter.pop(\"可能\", None)\n",
    "\n",
    "sorted_dict = dict(word_counter.most_common())"
   ]
  },
  {
   "cell_type": "code",
   "execution_count": null,
   "metadata": {},
   "outputs": [
    {
     "name": "stdout",
     "output_type": "stream",
     "text": [
      "9408\n"
     ]
    },
    {
     "data": {
      "text/plain": [
       "'c:\\\\Users\\\\ZeroVector\\\\Desktop\\\\资料\\\\资料\\\\Mindspore开源仓库\\\\wordcloud.html'"
      ]
     },
     "execution_count": 13,
     "metadata": {},
     "output_type": "execute_result"
    }
   ],
   "source": [
    "print(word_counter[\"详情\"])\n",
    "from pyecharts.charts import WordCloud\n",
    "\n",
    "words = [(k, v) for k, v in sorted_dict.items()][:50]\n"
   ]
  },
  {
   "cell_type": "code",
   "execution_count": null,
   "metadata": {},
   "outputs": [],
   "source": [
    "WordCloud().add(\"\", words).render(\"wordcloud.html\")"
   ]
  },
  {
   "cell_type": "code",
   "execution_count": null,
   "metadata": {},
   "outputs": [
    {
     "ename": "NameError",
     "evalue": "name 'words' is not defined",
     "output_type": "error",
     "traceback": [
      "\u001b[1;31m---------------------------------------------------------------------------\u001b[0m",
      "\u001b[1;31mNameError\u001b[0m                                 Traceback (most recent call last)",
      "Cell \u001b[1;32mIn[3], line 2\u001b[0m\n\u001b[0;32m      1\u001b[0m \u001b[38;5;28;01mwith\u001b[39;00m \u001b[38;5;28mopen\u001b[39m(\u001b[38;5;124m\"\u001b[39m\u001b[38;5;124mfraud_keywords.json\u001b[39m\u001b[38;5;124m\"\u001b[39m, \u001b[38;5;124m\"\u001b[39m\u001b[38;5;124mw\u001b[39m\u001b[38;5;124m\"\u001b[39m, encoding\u001b[38;5;241m=\u001b[39m\u001b[38;5;124m\"\u001b[39m\u001b[38;5;124mutf-8\u001b[39m\u001b[38;5;124m\"\u001b[39m) \u001b[38;5;28;01mas\u001b[39;00m f:\n\u001b[1;32m----> 2\u001b[0m     json\u001b[38;5;241m.\u001b[39mdump(\u001b[43mwords\u001b[49m, f, ensure_ascii\u001b[38;5;241m=\u001b[39m\u001b[38;5;28;01mFalse\u001b[39;00m, indent\u001b[38;5;241m=\u001b[39m\u001b[38;5;241m4\u001b[39m)\n",
      "\u001b[1;31mNameError\u001b[0m: name 'words' is not defined"
     ]
    }
   ],
   "source": [
    "with open(\"fraud_keywords.json\", \"w\", encoding=\"utf-8\") as f:\n",
    "    json.dump(words, f, ensure_ascii=False, indent=4)\n"
   ]
  },
  {
   "cell_type": "code",
   "execution_count": 4,
   "metadata": {},
   "outputs": [],
   "source": [
    "\n",
    "with open(\"fraud_keywords.json\", \"r\", encoding=\"utf-8\") as f:\n",
    "    words = json.load(f)"
   ]
  },
  {
   "cell_type": "code",
   "execution_count": 8,
   "metadata": {},
   "outputs": [
    {
     "data": {
      "application/vnd.plotly.v1+json": {
       "config": {
        "plotlyServerURL": "https://plot.ly"
       },
       "data": [
        {
         "hovertemplate": "关键词=%{x}<br>频率=%{marker.color}<extra></extra>",
         "legendgroup": "",
         "marker": {
          "color": {
           "bdata": "QfsAAMPHAAAavgAAj5UAABuTAABgfgAAlHMAAB1zAACfcQAAM20AAJxsAADmawAAXWcAABBmAAA5YAAAflwAAIhRAACzTAAA/0kAAOdJAADFSQAAekkAADFEAADOQwAANz4AAFU7AACUNAAAUTMAAC0xAADuMAAALzAAAP4vAACDLwAANi8AAEwqAAAXKgAAtSkAANIoAAAfKAAA3CQAAMAkAACMJAAAEyQAALMjAACdIgAA3yAAAJIgAABrHgAALB4AAN4dAAA=",
           "dtype": "i4"
          },
          "coloraxis": "coloraxis",
          "line": {
           "color": "rgb(8,48,107)",
           "width": 1.5
          },
          "pattern": {
           "shape": ""
          }
         },
         "name": "",
         "orientation": "v",
         "showlegend": false,
         "text": {
          "bdata": "AAAAACBo70AAAAAAYPjoQAAAAABAw+dAAAAAAOCx4kAAAAAAYGPiQAAAAAAAmN9AAAAAAADl3EAAAAAAQMfcQAAAAADAZ9xAAAAAAMBM20AAAAAAACfbQAAAAACA+dpAAAAAAEDX2UAAAAAAAITZQAAAAABADthAAAAAAIAf10AAAAAAAGLUQAAAAADALNNAAAAAAMB/0kAAAAAAwHnSQAAAAABAcdJAAAAAAIBe0kAAAAAAQAzRQAAAAACA89BAAAAAAIAbz0AAAAAAgKrNQAAAAAAASspAAAAAAICoyUAAAAAAgJbIQAAAAAAAd8hAAAAAAIAXyEAAAAAAAP/HQAAAAACAwcdAAAAAAACbx0AAAAAAACbFQAAAAACAC8VAAAAAAIDaxEAAAAAAAGnEQAAAAACAD8RAAAAAAABuwkAAAAAAAGDCQAAAAAAARsJAAAAAAIAJwkAAAAAAgNnBQAAAAACATsFAAAAAAIBvwEAAAAAAAEnAQAAAAAAAa75AAAAAAAAsvkAAAAAAAN69QA==",
          "dtype": "f8"
         },
         "textposition": "outside",
         "texttemplate": "%{text:.2s}",
         "type": "bar",
         "x": [
          "链接",
          "账户",
          "点击",
          "下载",
          "投资",
          "进行",
          "完成",
          "加入",
          "转账",
          "获得",
          "提供",
          "操作",
          "机会",
          "参与",
          "服务",
          "注意",
          "客服",
          "需要",
          "尊敬",
          "任务",
          "平台",
          "信息",
          "贷款",
          "用户",
          "添加",
          "微信",
          "返利",
          "活动",
          "资金",
          "账号",
          "申请",
          "验证",
          "指定",
          "联系",
          "发现",
          "邀请",
          "享受",
          "了解",
          "收益",
          "购买",
          "详情",
          "支付",
          "专业",
          "赚取",
          "赚钱",
          "体验",
          "注册",
          "指示",
          "指导",
          "影响"
         ],
         "xaxis": "x",
         "y": {
          "bdata": "QfsAAMPHAAAavgAAj5UAABuTAABgfgAAlHMAAB1zAACfcQAAM20AAJxsAADmawAAXWcAABBmAAA5YAAAflwAAIhRAACzTAAA/0kAAOdJAADFSQAAekkAADFEAADOQwAANz4AAFU7AACUNAAAUTMAAC0xAADuMAAALzAAAP4vAACDLwAANi8AAEwqAAAXKgAAtSkAANIoAAAfKAAA3CQAAMAkAACMJAAAEyQAALMjAACdIgAA3yAAAJIgAABrHgAALB4AAN4dAAA=",
          "dtype": "i4"
         },
         "yaxis": "y"
        }
       ],
       "layout": {
        "barmode": "relative",
        "coloraxis": {
         "colorbar": {
          "title": {
           "text": "频率"
          }
         },
         "colorscale": [
          [
           0,
           "#440154"
          ],
          [
           0.1111111111111111,
           "#482878"
          ],
          [
           0.2222222222222222,
           "#3e4989"
          ],
          [
           0.3333333333333333,
           "#31688e"
          ],
          [
           0.4444444444444444,
           "#26828e"
          ],
          [
           0.5555555555555556,
           "#1f9e89"
          ],
          [
           0.6666666666666666,
           "#35b779"
          ],
          [
           0.7777777777777778,
           "#6ece58"
          ],
          [
           0.8888888888888888,
           "#b5de2b"
          ],
          [
           1,
           "#fde725"
          ]
         ]
        },
        "legend": {
         "tracegroupgap": 0
        },
        "template": {
         "data": {
          "bar": [
           {
            "error_x": {
             "color": "#2a3f5f"
            },
            "error_y": {
             "color": "#2a3f5f"
            },
            "marker": {
             "line": {
              "color": "#E5ECF6",
              "width": 0.5
             },
             "pattern": {
              "fillmode": "overlay",
              "size": 10,
              "solidity": 0.2
             }
            },
            "type": "bar"
           }
          ],
          "barpolar": [
           {
            "marker": {
             "line": {
              "color": "#E5ECF6",
              "width": 0.5
             },
             "pattern": {
              "fillmode": "overlay",
              "size": 10,
              "solidity": 0.2
             }
            },
            "type": "barpolar"
           }
          ],
          "carpet": [
           {
            "aaxis": {
             "endlinecolor": "#2a3f5f",
             "gridcolor": "white",
             "linecolor": "white",
             "minorgridcolor": "white",
             "startlinecolor": "#2a3f5f"
            },
            "baxis": {
             "endlinecolor": "#2a3f5f",
             "gridcolor": "white",
             "linecolor": "white",
             "minorgridcolor": "white",
             "startlinecolor": "#2a3f5f"
            },
            "type": "carpet"
           }
          ],
          "choropleth": [
           {
            "colorbar": {
             "outlinewidth": 0,
             "ticks": ""
            },
            "type": "choropleth"
           }
          ],
          "contour": [
           {
            "colorbar": {
             "outlinewidth": 0,
             "ticks": ""
            },
            "colorscale": [
             [
              0,
              "#0d0887"
             ],
             [
              0.1111111111111111,
              "#46039f"
             ],
             [
              0.2222222222222222,
              "#7201a8"
             ],
             [
              0.3333333333333333,
              "#9c179e"
             ],
             [
              0.4444444444444444,
              "#bd3786"
             ],
             [
              0.5555555555555556,
              "#d8576b"
             ],
             [
              0.6666666666666666,
              "#ed7953"
             ],
             [
              0.7777777777777778,
              "#fb9f3a"
             ],
             [
              0.8888888888888888,
              "#fdca26"
             ],
             [
              1,
              "#f0f921"
             ]
            ],
            "type": "contour"
           }
          ],
          "contourcarpet": [
           {
            "colorbar": {
             "outlinewidth": 0,
             "ticks": ""
            },
            "type": "contourcarpet"
           }
          ],
          "heatmap": [
           {
            "colorbar": {
             "outlinewidth": 0,
             "ticks": ""
            },
            "colorscale": [
             [
              0,
              "#0d0887"
             ],
             [
              0.1111111111111111,
              "#46039f"
             ],
             [
              0.2222222222222222,
              "#7201a8"
             ],
             [
              0.3333333333333333,
              "#9c179e"
             ],
             [
              0.4444444444444444,
              "#bd3786"
             ],
             [
              0.5555555555555556,
              "#d8576b"
             ],
             [
              0.6666666666666666,
              "#ed7953"
             ],
             [
              0.7777777777777778,
              "#fb9f3a"
             ],
             [
              0.8888888888888888,
              "#fdca26"
             ],
             [
              1,
              "#f0f921"
             ]
            ],
            "type": "heatmap"
           }
          ],
          "histogram": [
           {
            "marker": {
             "pattern": {
              "fillmode": "overlay",
              "size": 10,
              "solidity": 0.2
             }
            },
            "type": "histogram"
           }
          ],
          "histogram2d": [
           {
            "colorbar": {
             "outlinewidth": 0,
             "ticks": ""
            },
            "colorscale": [
             [
              0,
              "#0d0887"
             ],
             [
              0.1111111111111111,
              "#46039f"
             ],
             [
              0.2222222222222222,
              "#7201a8"
             ],
             [
              0.3333333333333333,
              "#9c179e"
             ],
             [
              0.4444444444444444,
              "#bd3786"
             ],
             [
              0.5555555555555556,
              "#d8576b"
             ],
             [
              0.6666666666666666,
              "#ed7953"
             ],
             [
              0.7777777777777778,
              "#fb9f3a"
             ],
             [
              0.8888888888888888,
              "#fdca26"
             ],
             [
              1,
              "#f0f921"
             ]
            ],
            "type": "histogram2d"
           }
          ],
          "histogram2dcontour": [
           {
            "colorbar": {
             "outlinewidth": 0,
             "ticks": ""
            },
            "colorscale": [
             [
              0,
              "#0d0887"
             ],
             [
              0.1111111111111111,
              "#46039f"
             ],
             [
              0.2222222222222222,
              "#7201a8"
             ],
             [
              0.3333333333333333,
              "#9c179e"
             ],
             [
              0.4444444444444444,
              "#bd3786"
             ],
             [
              0.5555555555555556,
              "#d8576b"
             ],
             [
              0.6666666666666666,
              "#ed7953"
             ],
             [
              0.7777777777777778,
              "#fb9f3a"
             ],
             [
              0.8888888888888888,
              "#fdca26"
             ],
             [
              1,
              "#f0f921"
             ]
            ],
            "type": "histogram2dcontour"
           }
          ],
          "mesh3d": [
           {
            "colorbar": {
             "outlinewidth": 0,
             "ticks": ""
            },
            "type": "mesh3d"
           }
          ],
          "parcoords": [
           {
            "line": {
             "colorbar": {
              "outlinewidth": 0,
              "ticks": ""
             }
            },
            "type": "parcoords"
           }
          ],
          "pie": [
           {
            "automargin": true,
            "type": "pie"
           }
          ],
          "scatter": [
           {
            "fillpattern": {
             "fillmode": "overlay",
             "size": 10,
             "solidity": 0.2
            },
            "type": "scatter"
           }
          ],
          "scatter3d": [
           {
            "line": {
             "colorbar": {
              "outlinewidth": 0,
              "ticks": ""
             }
            },
            "marker": {
             "colorbar": {
              "outlinewidth": 0,
              "ticks": ""
             }
            },
            "type": "scatter3d"
           }
          ],
          "scattercarpet": [
           {
            "marker": {
             "colorbar": {
              "outlinewidth": 0,
              "ticks": ""
             }
            },
            "type": "scattercarpet"
           }
          ],
          "scattergeo": [
           {
            "marker": {
             "colorbar": {
              "outlinewidth": 0,
              "ticks": ""
             }
            },
            "type": "scattergeo"
           }
          ],
          "scattergl": [
           {
            "marker": {
             "colorbar": {
              "outlinewidth": 0,
              "ticks": ""
             }
            },
            "type": "scattergl"
           }
          ],
          "scattermap": [
           {
            "marker": {
             "colorbar": {
              "outlinewidth": 0,
              "ticks": ""
             }
            },
            "type": "scattermap"
           }
          ],
          "scattermapbox": [
           {
            "marker": {
             "colorbar": {
              "outlinewidth": 0,
              "ticks": ""
             }
            },
            "type": "scattermapbox"
           }
          ],
          "scatterpolar": [
           {
            "marker": {
             "colorbar": {
              "outlinewidth": 0,
              "ticks": ""
             }
            },
            "type": "scatterpolar"
           }
          ],
          "scatterpolargl": [
           {
            "marker": {
             "colorbar": {
              "outlinewidth": 0,
              "ticks": ""
             }
            },
            "type": "scatterpolargl"
           }
          ],
          "scatterternary": [
           {
            "marker": {
             "colorbar": {
              "outlinewidth": 0,
              "ticks": ""
             }
            },
            "type": "scatterternary"
           }
          ],
          "surface": [
           {
            "colorbar": {
             "outlinewidth": 0,
             "ticks": ""
            },
            "colorscale": [
             [
              0,
              "#0d0887"
             ],
             [
              0.1111111111111111,
              "#46039f"
             ],
             [
              0.2222222222222222,
              "#7201a8"
             ],
             [
              0.3333333333333333,
              "#9c179e"
             ],
             [
              0.4444444444444444,
              "#bd3786"
             ],
             [
              0.5555555555555556,
              "#d8576b"
             ],
             [
              0.6666666666666666,
              "#ed7953"
             ],
             [
              0.7777777777777778,
              "#fb9f3a"
             ],
             [
              0.8888888888888888,
              "#fdca26"
             ],
             [
              1,
              "#f0f921"
             ]
            ],
            "type": "surface"
           }
          ],
          "table": [
           {
            "cells": {
             "fill": {
              "color": "#EBF0F8"
             },
             "line": {
              "color": "white"
             }
            },
            "header": {
             "fill": {
              "color": "#C8D4E3"
             },
             "line": {
              "color": "white"
             }
            },
            "type": "table"
           }
          ]
         },
         "layout": {
          "annotationdefaults": {
           "arrowcolor": "#2a3f5f",
           "arrowhead": 0,
           "arrowwidth": 1
          },
          "autotypenumbers": "strict",
          "coloraxis": {
           "colorbar": {
            "outlinewidth": 0,
            "ticks": ""
           }
          },
          "colorscale": {
           "diverging": [
            [
             0,
             "#8e0152"
            ],
            [
             0.1,
             "#c51b7d"
            ],
            [
             0.2,
             "#de77ae"
            ],
            [
             0.3,
             "#f1b6da"
            ],
            [
             0.4,
             "#fde0ef"
            ],
            [
             0.5,
             "#f7f7f7"
            ],
            [
             0.6,
             "#e6f5d0"
            ],
            [
             0.7,
             "#b8e186"
            ],
            [
             0.8,
             "#7fbc41"
            ],
            [
             0.9,
             "#4d9221"
            ],
            [
             1,
             "#276419"
            ]
           ],
           "sequential": [
            [
             0,
             "#0d0887"
            ],
            [
             0.1111111111111111,
             "#46039f"
            ],
            [
             0.2222222222222222,
             "#7201a8"
            ],
            [
             0.3333333333333333,
             "#9c179e"
            ],
            [
             0.4444444444444444,
             "#bd3786"
            ],
            [
             0.5555555555555556,
             "#d8576b"
            ],
            [
             0.6666666666666666,
             "#ed7953"
            ],
            [
             0.7777777777777778,
             "#fb9f3a"
            ],
            [
             0.8888888888888888,
             "#fdca26"
            ],
            [
             1,
             "#f0f921"
            ]
           ],
           "sequentialminus": [
            [
             0,
             "#0d0887"
            ],
            [
             0.1111111111111111,
             "#46039f"
            ],
            [
             0.2222222222222222,
             "#7201a8"
            ],
            [
             0.3333333333333333,
             "#9c179e"
            ],
            [
             0.4444444444444444,
             "#bd3786"
            ],
            [
             0.5555555555555556,
             "#d8576b"
            ],
            [
             0.6666666666666666,
             "#ed7953"
            ],
            [
             0.7777777777777778,
             "#fb9f3a"
            ],
            [
             0.8888888888888888,
             "#fdca26"
            ],
            [
             1,
             "#f0f921"
            ]
           ]
          },
          "colorway": [
           "#636efa",
           "#EF553B",
           "#00cc96",
           "#ab63fa",
           "#FFA15A",
           "#19d3f3",
           "#FF6692",
           "#B6E880",
           "#FF97FF",
           "#FECB52"
          ],
          "font": {
           "color": "#2a3f5f"
          },
          "geo": {
           "bgcolor": "white",
           "lakecolor": "white",
           "landcolor": "#E5ECF6",
           "showlakes": true,
           "showland": true,
           "subunitcolor": "white"
          },
          "hoverlabel": {
           "align": "left"
          },
          "hovermode": "closest",
          "mapbox": {
           "style": "light"
          },
          "paper_bgcolor": "white",
          "plot_bgcolor": "#E5ECF6",
          "polar": {
           "angularaxis": {
            "gridcolor": "white",
            "linecolor": "white",
            "ticks": ""
           },
           "bgcolor": "#E5ECF6",
           "radialaxis": {
            "gridcolor": "white",
            "linecolor": "white",
            "ticks": ""
           }
          },
          "scene": {
           "xaxis": {
            "backgroundcolor": "#E5ECF6",
            "gridcolor": "white",
            "gridwidth": 2,
            "linecolor": "white",
            "showbackground": true,
            "ticks": "",
            "zerolinecolor": "white"
           },
           "yaxis": {
            "backgroundcolor": "#E5ECF6",
            "gridcolor": "white",
            "gridwidth": 2,
            "linecolor": "white",
            "showbackground": true,
            "ticks": "",
            "zerolinecolor": "white"
           },
           "zaxis": {
            "backgroundcolor": "#E5ECF6",
            "gridcolor": "white",
            "gridwidth": 2,
            "linecolor": "white",
            "showbackground": true,
            "ticks": "",
            "zerolinecolor": "white"
           }
          },
          "shapedefaults": {
           "line": {
            "color": "#2a3f5f"
           }
          },
          "ternary": {
           "aaxis": {
            "gridcolor": "white",
            "linecolor": "white",
            "ticks": ""
           },
           "baxis": {
            "gridcolor": "white",
            "linecolor": "white",
            "ticks": ""
           },
           "bgcolor": "#E5ECF6",
           "caxis": {
            "gridcolor": "white",
            "linecolor": "white",
            "ticks": ""
           }
          },
          "title": {
           "x": 0.05
          },
          "xaxis": {
           "automargin": true,
           "gridcolor": "white",
           "linecolor": "white",
           "ticks": "",
           "title": {
            "standoff": 15
           },
           "zerolinecolor": "white",
           "zerolinewidth": 2
          },
          "yaxis": {
           "automargin": true,
           "gridcolor": "white",
           "linecolor": "white",
           "ticks": "",
           "title": {
            "standoff": 15
           },
           "zerolinecolor": "white",
           "zerolinewidth": 2
          }
         }
        },
        "title": {
         "text": "Word Frequency Histogram"
        },
        "xaxis": {
         "anchor": "y",
         "domain": [
          0,
          1
         ],
         "title": {
          "text": "关键词"
         }
        },
        "yaxis": {
         "anchor": "x",
         "domain": [
          0,
          1
         ],
         "title": {
          "text": "频率"
         }
        }
       }
      }
     },
     "metadata": {},
     "output_type": "display_data"
    }
   ],
   "source": [
    "import plotly.express as px\n",
    "import pandas as pd\n",
    "\n",
    "# 将词频数据转换为 DataFrame\n",
    "word_freq_df = pd.DataFrame(words, columns=[\"Word\", \"Frequency\"])\n",
    "\n",
    "# 使用 plotly 生成更美观的直方图\n",
    "fig = px.bar(\n",
    "    word_freq_df,\n",
    "    x=\"Word\",\n",
    "    y=\"Frequency\",\n",
    "    title=\"Word Frequency Histogram\",\n",
    "    text=\"Frequency\",\n",
    "    color=\"Frequency\",\n",
    "    color_continuous_scale=\"Viridis\",\n",
    "    labels={\"Word\": \"关键词\", \"Frequency\": \"频率\"}\n",
    ")\n",
    "\n",
    "# 设置图表样式\n",
    "fig.update_traces(\n",
    "    texttemplate='%{text:.2s}', \n",
    "    textposition='outside',\n",
    "    marker_line_color='rgb(8,48,107)',\n",
    "    marker_line_width=1.5\n",
    ")\n",
    "\n",
    "# fig.update_layout(\n",
    "#     title_font_size=24,\n",
    "#     xaxis_tickangle=-45,\n",
    "#     xaxis_title_font_size=18,\n",
    "#     yaxis_title_font_size=18,\n",
    "#     margin=dict(l=40, r=40, t=60, b=40)\n",
    "# )\n",
    "\n",
    "fig.show()"
   ]
  }
 ],
 "metadata": {
  "kernelspec": {
   "display_name": "Python 3",
   "language": "python",
   "name": "python3"
  },
  "language_info": {
   "codemirror_mode": {
    "name": "ipython",
    "version": 3
   },
   "file_extension": ".py",
   "mimetype": "text/x-python",
   "name": "python",
   "nbconvert_exporter": "python",
   "pygments_lexer": "ipython3",
   "version": "3.9.21"
  }
 },
 "nbformat": 4,
 "nbformat_minor": 2
}
