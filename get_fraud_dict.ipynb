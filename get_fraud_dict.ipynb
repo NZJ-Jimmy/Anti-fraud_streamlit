{
 "cells": [
  {
   "cell_type": "code",
   "execution_count": 2,
   "metadata": {},
   "outputs": [
    {
     "name": "stdout",
     "output_type": "stream",
     "text": [
      "194981\n"
     ]
    }
   ],
   "source": [
    "import json\n",
    "\n",
    "keyword_message = json.load(open(\"dataset/keyword_message.json\"))\n",
    "eval_initial = json.load(open(\"dataset/eval_initial.json\"))\n",
    "finetuning_initial = json.load(open(\"dataset/finetuning_initial.json\"))\n",
    "\n",
    "data_all = keyword_message + eval_initial + finetuning_initial\n",
    "print(len(data_all))"
   ]
  },
  {
   "cell_type": "code",
   "execution_count": null,
   "metadata": {},
   "outputs": [
    {
     "name": "stdout",
     "output_type": "stream",
     "text": [
      "134977\n",
      "[('链接', 64321), ('账户', 51139), ('点击', 48666), ('下载', 38287), ('投资', 37659), ('进行', 32352), ('完成', 29588), ('加入', 29469), ('转账', 29087), ('获得', 27955), ('提供', 27804), ('操作', 27622), ('机会', 26461), ('参与', 26128), ('服务', 24633), ('注意', 23678), ('客服', 20872), ('需要', 19635), ('尊敬', 18943), ('任务', 18919)]\n"
     ]
    }
   ],
   "source": [
    "import jieba.posseg as pseg  # 使用带词性标注的分词器\n",
    "import re\n",
    "from collections import Counter\n",
    "\n",
    "risk_data = [d for d in data_all if d[\"风险类别\"] != \"无风险\"]\n",
    "print(len(risk_data))\n",
    "\n",
    "# 加载停用词表\n",
    "stop_words = set()\n",
    "with open(\"cn_stopwords.txt\", \"r\", encoding=\"utf-8\") as f:\n",
    "    stop_words = set([line.strip() for line in f])\n",
    "\n",
    "# 正则表达式配置\n",
    "url_pattern = r\"https?://\\S+|www\\.\\S+\"  # 匹配URL\n",
    "punctuation = r\"[\\s+\\!\\/_,$%^*(+\\\"\\')]+|[+——！，。？、~@#￥%……&*（）《》“”；：]+\"\n",
    "\n",
    "# 词性白名单\n",
    "ALLOWED_POS = {'n', 'v', 'vn', 'nt'}  # 名词/动词/动名词/机构名\n",
    "\n",
    "word_counter = Counter()\n",
    "\n",
    "for item in risk_data:\n",
    "    # 文本清洗\n",
    "    text = re.sub(url_pattern, \"\", item[\"文本\"])  # 去除链接\n",
    "    text = re.sub(punctuation, \"\", text)         # 去除标点\n",
    "    text = re.sub(r\"\\d+\", \"\", text)               # 去除纯数字\n",
    "    \n",
    "    # 带词性标注的分词 (修改点)\n",
    "    words = pseg.lcut(text)\n",
    "    \n",
    "    # 过滤条件 (核心修改)\n",
    "    filtered_words = [\n",
    "        word for word, flag in words\n",
    "        if (flag in ALLOWED_POS) and              # 词性过滤\n",
    "        (word not in stop_words) and\n",
    "        (len(word) > 1) and\n",
    "        (not word.isdigit()) and\n",
    "        (not word.isspace())\n",
    "    ]\n",
    "    \n",
    "    word_counter.update(filtered_words)\n",
    "\n",
    "sorted_dict = dict(word_counter.most_common())\n",
    "print(list(sorted_dict.items())[:20])"
   ]
  },
  {
   "cell_type": "code",
   "execution_count": 9,
   "metadata": {},
   "outputs": [],
   "source": [
    "if \"详情请\" in word_counter:\n",
    "    detail_count = word_counter.pop(\"详情请\")\n",
    "    word_counter[\"详情\"] += detail_count\n",
    "\n",
    "word_counter.pop(\"可能\", None)\n",
    "\n",
    "sorted_dict = dict(word_counter.most_common())"
   ]
  },
  {
   "cell_type": "code",
   "execution_count": 13,
   "metadata": {},
   "outputs": [
    {
     "name": "stdout",
     "output_type": "stream",
     "text": [
      "9408\n"
     ]
    },
    {
     "data": {
      "text/plain": [
       "'c:\\\\Users\\\\ZeroVector\\\\Desktop\\\\资料\\\\资料\\\\Mindspore开源仓库\\\\wordcloud.html'"
      ]
     },
     "execution_count": 13,
     "metadata": {},
     "output_type": "execute_result"
    }
   ],
   "source": [
    "print(word_counter[\"详情\"])\n",
    "from pyecharts.charts import WordCloud\n",
    "\n",
    "words = [(k, v) for k, v in sorted_dict.items()][:50]\n",
    "WordCloud().add(\"\", words).render(\"wordcloud.html\")"
   ]
  },
  {
   "cell_type": "code",
   "execution_count": 14,
   "metadata": {},
   "outputs": [],
   "source": [
    "with open(\"fraud_keywords.json\", \"w\", encoding=\"utf-8\") as f:\n",
    "    json.dump(words, f, ensure_ascii=False, indent=4)"
   ]
  }
 ],
 "metadata": {
  "kernelspec": {
   "display_name": "DL",
   "language": "python",
   "name": "python3"
  },
  "language_info": {
   "codemirror_mode": {
    "name": "ipython",
    "version": 3
   },
   "file_extension": ".py",
   "mimetype": "text/x-python",
   "name": "python",
   "nbconvert_exporter": "python",
   "pygments_lexer": "ipython3",
   "version": "3.9.19"
  }
 },
 "nbformat": 4,
 "nbformat_minor": 2
}
