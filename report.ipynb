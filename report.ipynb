{
 "cells": [
  {
   "cell_type": "code",
   "execution_count": null,
   "metadata": {},
   "outputs": [],
   "source": [
    "import streamlit as st\n",
    "from openai import OpenAI\n",
    "import openai\n",
    "\n",
    "openai.api_key = st.secrets[\"OPENAI_API_KEY\"]\n",
    "openai.base_url = st.secrets[\"OPENAI_BASE_URL\"]\n",
    "openai_model = st.secrets[\"OPENAI_MODEL\"]"
   ]
  },
  {
   "cell_type": "code",
   "execution_count": 13,
   "metadata": {},
   "outputs": [],
   "source": [
    "user_profile = {\n",
    "    \"年龄\": 25,\n",
    "    \"地区\": \"城市\",\n",
    "    \"职业\": \"在职员工\",\n",
    "    \"月收入范围\": \"3000-8000元\",\n",
    "    \"支付方式\": [\"微信支付\", \"银行卡支付\"],\n",
    "    \"投资经验\": \"1-3年\",\n",
    "    \"接触诈骗类型\": [\"网络诈骗\", \"投资理财\", \"中奖诈骗\"],\n",
    "    \"近一年被诈骗金额\": 10000,\n",
    "    \"是否报警\": True,\n",
    "    \"紧急反应\": \"先核实再处理\",\n",
    "    \"陌生人处理\": \"视情况而定\",\n",
    "    \"未验证优惠信息\": \"保持怀疑\",\n",
    "    \"每日社交使用时长(小时)\": 5,\n",
    "}\n",
    "profile_str = \"\\n\".join([f\"{k}: {v}\" for k, v in user_profile.items()])"
   ]
  },
  {
   "cell_type": "code",
   "execution_count": 16,
   "metadata": {},
   "outputs": [],
   "source": [
    "prompt_template = \"\"\"\n",
    "我这里有一个用户对风险评估问卷填入的信息，以下是信息内容：\n",
    "{profile_str}\n",
    "\n",
    "请你根据用户的信息，为用户生成一个风险分析报告，并给予用户实用建议。\n",
    "\n",
    "要求：\n",
    "1. 总结用户对风险评估问卷的回答，分析用户的风险特征。\n",
    "2. 对用户的信息先给出具体详细的分析，再给出建议。\n",
    "3. 可以针对用户信息中的内容的部分特征，给出风险用户建议。\n",
    "4. 只需要给出约 200 字的建议即可。建议有条理地列出。\n",
    "5. 适量加入 emoji 表情，使得建议更加生动有趣。\n",
    "\n",
    "建议内容：\n",
    "\"\"\""
   ]
  },
  {
   "cell_type": "code",
   "execution_count": null,
   "metadata": {},
   "outputs": [
    {
     "name": "stdout",
     "output_type": "stream",
     "text": [
      "ChatCompletion(id='81cd9e9f-463b-4310-ba51-6d880847b7bb', choices=[Choice(finish_reason='stop', index=0, logprobs=None, message=ChatCompletionMessage(content='### 风险分析报告 📊  \\n\\n#### **用户风险特征分析**  \\n1. **诈骗风险较高** 🚨：用户接触过多种诈骗类型（网络诈骗、投资理财诈骗等），且近一年被诈骗金额达1万元，说明对诈骗手段的识别和防范能力有待加强。  \\n2. **社交使用时间长** 📱：每日社交使用5小时，可能增加接触虚假信息或诈骗链接的风险。  \\n3. **收入中等但投资经验有限** 💰：月收入3000-8000元，但投资经验仅1-3年，需警惕高收益骗局。  \\n4. **警觉性一般** ⚠️：对陌生人和未验证优惠虽保持怀疑，但处理方式较灵活（“视情况而定”），可能留下风险漏洞。  \\n\\n#### **实用建议**  \\n1. **加强反诈意识** 🔐：学习常见诈骗案例（如虚假投资、中奖陷阱），关注警方反诈宣传，安装国家反诈中心APP。  \\n2. **控制社交时间** ⏳：减少无意义浏览，避免点击陌生链接或参与高风险网络活动。  \\n3. **稳健理财** 📈：选择正规平台投资，避免盲目追求高收益，可先从低风险产品（如货币基金）开始。  \\n4. **设定安全规则** ✋：对陌生人直接拒绝，优惠信息需官方验证，涉及转账一律暂停并核实。  \\n5. **定期复盘资金** 💡：每月检查账户流水，发现异常及时报警（这次做得对！👏）。  \\n\\n希望这些建议能帮你更好地规避风险！如有疑问，欢迎进一步咨询~ 😊', refusal=None, role='assistant', annotations=None, audio=None, function_call=None, tool_calls=None))], created=1743313975, model='deepseek-chat', object='chat.completion', service_tier=None, system_fingerprint='fp_3d5141a69a_prod0225', usage=CompletionUsage(completion_tokens=350, prompt_tokens=260, total_tokens=610, completion_tokens_details=None, prompt_tokens_details=PromptTokensDetails(audio_tokens=None, cached_tokens=256), prompt_cache_hit_tokens=256, prompt_cache_miss_tokens=4))\n"
     ]
    }
   ],
   "source": [
    "prompt = prompt_template.format(profile_str=profile_str)\n",
    "\n",
    "client = OpenAI()\n",
    "\n",
    "response = client.chat.completions.create(\n",
    "  model=openai_model,\n",
    "  messages=[\n",
    "    {\"role\": \"system\", \"content\": \"The following is a message that I received from a user and I need your help to respond to it.\"},\n",
    "    {\"role\": \"user\", \"content\": prompt},\n",
    "  ],\n",
    "  max_tokens=1024,\n",
    "  temperature=1.0,\n",
    ")\n",
    "print(response.choices[0].message.content)"
   ]
  }
 ],
 "metadata": {
  "kernelspec": {
   "display_name": "DL",
   "language": "python",
   "name": "python3"
  },
  "language_info": {
   "codemirror_mode": {
    "name": "ipython",
    "version": 3
   },
   "file_extension": ".py",
   "mimetype": "text/x-python",
   "name": "python",
   "nbconvert_exporter": "python",
   "pygments_lexer": "ipython3",
   "version": "3.9.19"
  }
 },
 "nbformat": 4,
 "nbformat_minor": 2
}
